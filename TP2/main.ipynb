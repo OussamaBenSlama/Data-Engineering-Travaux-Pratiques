{
 "cells": [
  {
   "cell_type": "code",
   "execution_count": 3,
   "id": "da066cf0-2f11-4845-974b-a3afc0600e19",
   "metadata": {},
   "outputs": [],
   "source": [
    "from pyspark import SparkContext\n",
    "from pyspark.sql import SparkSession\n",
    "\n",
    "spark = SparkSession\\\n",
    "        .builder\\\n",
    "        .master('local[*]')\\\n",
    "        .getOrCreate()\n",
    "sc = spark.sparkContext"
   ]
  },
  {
   "cell_type": "code",
   "execution_count": 4,
   "id": "27664512-2088-4cf7-929d-f03f040dc177",
   "metadata": {},
   "outputs": [
    {
     "name": "stdout",
     "output_type": "stream",
     "text": [
      "ParallelCollectionRDD[0] at readRDDFromFile at PythonRDD.scala:274\n"
     ]
    }
   ],
   "source": [
    "data = sc.parallelize([1,2,3,4,5])\n",
    "print (data)"
   ]
  },
  {
   "cell_type": "code",
   "execution_count": 5,
   "id": "11a5e60b-695f-496b-9678-30cabc2434dc",
   "metadata": {},
   "outputs": [
    {
     "data": {
      "text/plain": [
       "[(1, 2), (3, 4), (3, 6), (3, 4)]"
      ]
     },
     "execution_count": 5,
     "metadata": {},
     "output_type": "execute_result"
    }
   ],
   "source": [
    "data = sc.parallelize([(1,2),(3,4),(3,6),(3,4)])\n",
    "data.collect()"
   ]
  },
  {
   "cell_type": "code",
   "execution_count": 6,
   "id": "09acc384-fb99-4d0d-857b-9e1f0d5b9368",
   "metadata": {},
   "outputs": [
    {
     "data": {
      "text/plain": [
       "pyspark.rdd.RDD"
      ]
     },
     "execution_count": 6,
     "metadata": {},
     "output_type": "execute_result"
    }
   ],
   "source": [
    "type(data)"
   ]
  },
  {
   "cell_type": "code",
   "execution_count": 13,
   "id": "65bc88fd-ec06-40fb-8c32-4e38b8905aa3",
   "metadata": {},
   "outputs": [
    {
     "data": {
      "text/plain": [
       "4"
      ]
     },
     "execution_count": 13,
     "metadata": {},
     "output_type": "execute_result"
    }
   ],
   "source": [
    "data.count()"
   ]
  },
  {
   "cell_type": "code",
   "execution_count": 8,
   "id": "bd9af3b7-591b-4f59-b8a4-d6ab30d4e792",
   "metadata": {},
   "outputs": [
    {
     "data": {
      "text/plain": [
       "5"
      ]
     },
     "execution_count": 8,
     "metadata": {},
     "output_type": "execute_result"
    }
   ],
   "source": [
    "num = sc.parallelize([5,5,4,3,2,9,2],5)\n",
    "\n",
    "num.getNumPartitions()\n"
   ]
  },
  {
   "cell_type": "code",
   "execution_count": 9,
   "id": "2643f683-db73-4607-a778-f066a5fafdc5",
   "metadata": {},
   "outputs": [
    {
     "data": {
      "text/plain": [
       "[10, 10, 8, 6, 4, 18, 4]"
      ]
     },
     "execution_count": 9,
     "metadata": {},
     "output_type": "execute_result"
    }
   ],
   "source": [
    "num.map(lambda a : a*2).collect()"
   ]
  },
  {
   "cell_type": "code",
   "execution_count": 10,
   "id": "ccd66478-0758-44fc-9c77-41a401dd8d1f",
   "metadata": {},
   "outputs": [
    {
     "data": {
      "text/plain": [
       "[125, 125, 64, 27, 8, 729, 8]"
      ]
     },
     "execution_count": 10,
     "metadata": {},
     "output_type": "execute_result"
    }
   ],
   "source": [
    "num.map(lambda a : pow(a,3)).collect()"
   ]
  },
  {
   "cell_type": "code",
   "execution_count": 11,
   "id": "f1091520-dba8-453c-b0dc-060540a93351",
   "metadata": {},
   "outputs": [
    {
     "data": {
      "text/plain": [
       "['Mr. Bills', 'Mr. Mark', 'Mr. Brain', 'Mr. Mick']"
      ]
     },
     "execution_count": 11,
     "metadata": {},
     "output_type": "execute_result"
    }
   ],
   "source": [
    "names = sc.parallelize([ \"Bills\", \"Mark\",\"Brain\",\"Mick\"])\n",
    "names.map(lambda a : \"Mr. \"+ a).collect()"
   ]
  },
  {
   "cell_type": "code",
   "execution_count": null,
   "id": "c1039273-2716-4bd4-8f86-b1796e5c5729",
   "metadata": {},
   "outputs": [],
   "source": []
  },
  {
   "cell_type": "code",
   "execution_count": 14,
   "id": "49b61a9a-1210-49d6-810f-b060593974b4",
   "metadata": {},
   "outputs": [
    {
     "data": {
      "text/plain": [
       "[2, 3, 4]"
      ]
     },
     "execution_count": 14,
     "metadata": {},
     "output_type": "execute_result"
    }
   ],
   "source": [
    "rdd = sc.parallelize([ 2, 3,4])\n",
    "rdd.collect()"
   ]
  },
  {
   "cell_type": "code",
   "execution_count": 15,
   "id": "37f6a353-ee9b-46bc-845b-c9a0eb99a71a",
   "metadata": {},
   "outputs": [
    {
     "data": {
      "text/plain": [
       "[range(1, 2), range(1, 3), range(1, 4)]"
      ]
     },
     "execution_count": 15,
     "metadata": {},
     "output_type": "execute_result"
    }
   ],
   "source": [
    "rdd.map(lambda x: range(1, x)).collect()"
   ]
  },
  {
   "cell_type": "code",
   "execution_count": 16,
   "id": "6026452e-8b42-4f79-b081-65ac29cdc517",
   "metadata": {},
   "outputs": [
    {
     "data": {
      "text/plain": [
       "[1, 1, 2, 1, 2, 3]"
      ]
     },
     "execution_count": 16,
     "metadata": {},
     "output_type": "execute_result"
    }
   ],
   "source": [
    "rdd.flatMap(lambda x: range(1, x)).collect()"
   ]
  },
  {
   "cell_type": "code",
   "execution_count": 17,
   "id": "c259b278-11e5-46af-a957-9a8b502c1ad3",
   "metadata": {},
   "outputs": [
    {
     "name": "stdout",
     "output_type": "stream",
     "text": [
      "[(1, 10, 57), (2, 20, 57), (3, 30, 57)]\n",
      "[1, 10, 57, 2, 20, 57, 3, 30, 57]\n"
     ]
    }
   ],
   "source": [
    "a = sc.parallelize([1,2,3])\n",
    "print(a.map(lambda x: (x,x*10,57)).collect())\n",
    "print(a.flatMap(lambda x: (x,x*10,57)).collect())"
   ]
  },
  {
   "cell_type": "code",
   "execution_count": null,
   "id": "a1b4d785-c0a1-4d8f-945a-767c155c27c2",
   "metadata": {},
   "outputs": [],
   "source": []
  },
  {
   "cell_type": "code",
   "execution_count": 18,
   "id": "ddda3efd-d9bf-4037-a513-93099327699f",
   "metadata": {},
   "outputs": [
    {
     "name": "stdout",
     "output_type": "stream",
     "text": [
      "Résultat avec map: [2, 4, 6, 8, 10]\n"
     ]
    }
   ],
   "source": [
    "rdd = sc.parallelize([1, 2, 3, 4, 5])\n",
    "result_map = rdd.map(lambda x: x * 2).collect()\n",
    "print(\"Résultat avec map:\", result_map)"
   ]
  },
  {
   "cell_type": "code",
   "execution_count": 19,
   "id": "db658e2d-3ca2-4b11-9faa-0e930da0295c",
   "metadata": {},
   "outputs": [
    {
     "name": "stdout",
     "output_type": "stream",
     "text": [
      "Résultat avec mapPartitions: [2, 4, 6, 8, 10]\n"
     ]
    }
   ],
   "source": [
    "def multiply_by_two(iterator):\n",
    "    return (x * 2 for x in iterator)\n",
    "\n",
    "result_mapPartitions = rdd.mapPartitions(multiply_by_two).collect()\n",
    "\n",
    "print(\"Résultat avec mapPartitions:\", result_mapPartitions)"
   ]
  },
  {
   "cell_type": "code",
   "execution_count": null,
   "id": "318951d6-7b98-4dea-b8c5-1fbbd5b3b39e",
   "metadata": {},
   "outputs": [],
   "source": []
  },
  {
   "cell_type": "code",
   "execution_count": 20,
   "id": "4fbe2767-9f0e-41b1-a9df-b31b739657a4",
   "metadata": {},
   "outputs": [
    {
     "data": {
      "text/plain": [
       "[5, 5, 4, 3, 2, 9, 2]"
      ]
     },
     "execution_count": 20,
     "metadata": {},
     "output_type": "execute_result"
    }
   ],
   "source": [
    "num.collect()"
   ]
  },
  {
   "cell_type": "code",
   "execution_count": 21,
   "id": "a5a350c5-1629-4bc1-9f3a-22fbd6d92666",
   "metadata": {},
   "outputs": [
    {
     "data": {
      "text/plain": [
       "[4]"
      ]
     },
     "execution_count": 21,
     "metadata": {},
     "output_type": "execute_result"
    }
   ],
   "source": [
    "num.filter(lambda x : x%3 == 1).collect()"
   ]
  },
  {
   "cell_type": "code",
   "execution_count": 22,
   "id": "74c1d027-2d92-4b35-a374-24c1c51df278",
   "metadata": {},
   "outputs": [
    {
     "data": {
      "text/plain": [
       "['Mark', 'Brain']"
      ]
     },
     "execution_count": 22,
     "metadata": {},
     "output_type": "execute_result"
    }
   ],
   "source": [
    "names.collect()\n",
    "names.filter(lambda x : \"a\" in x).collect()"
   ]
  },
  {
   "cell_type": "code",
   "execution_count": 23,
   "id": "771ce1da-dfe5-4f20-927e-3969e847132f",
   "metadata": {},
   "outputs": [
    {
     "name": "stdout",
     "output_type": "stream",
     "text": [
      "['Bills', 'Brain', 'Mark', 'Mick']\n",
      "['Mark', 'Mick', 'Bills', 'Brain']\n"
     ]
    }
   ],
   "source": [
    "print(names.sortBy(lambda x:x[0],1).collect())\n",
    "print(names.sortBy(lambda x:x[0],0).collect())"
   ]
  },
  {
   "cell_type": "code",
   "execution_count": null,
   "id": "2b964f79-81b8-4f5a-8f1f-76448f376271",
   "metadata": {},
   "outputs": [],
   "source": []
  },
  {
   "cell_type": "code",
   "execution_count": 24,
   "id": "b96fd283-ec53-452e-8b4e-ddd80dc1a080",
   "metadata": {},
   "outputs": [
    {
     "data": {
      "text/plain": [
       "[1, 1, 7, 9, 4, 10, 15]"
      ]
     },
     "execution_count": 24,
     "metadata": {},
     "output_type": "execute_result"
    }
   ],
   "source": [
    "num2 = sc.parallelize([1,1,7,9,4,10,15])\n",
    "num2.collect()"
   ]
  },
  {
   "cell_type": "code",
   "execution_count": 25,
   "id": "9fafd428-01d9-40af-a909-a29e0ea407c1",
   "metadata": {},
   "outputs": [
    {
     "data": {
      "text/plain": [
       "[1, 1, 7, 9, 4, 10, 15, 5, 5, 4, 3, 2, 9, 2]"
      ]
     },
     "execution_count": 25,
     "metadata": {},
     "output_type": "execute_result"
    }
   ],
   "source": [
    "num3=num2.union(num)\n",
    "num3.collect()"
   ]
  },
  {
   "cell_type": "code",
   "execution_count": 26,
   "id": "9f55561b-6c50-4a35-81b5-37786d45f269",
   "metadata": {},
   "outputs": [
    {
     "data": {
      "text/plain": [
       "[15, 10, 9, 9, 7, 5, 5, 4, 4, 3, 2, 2, 1, 1]"
      ]
     },
     "execution_count": 26,
     "metadata": {},
     "output_type": "execute_result"
    }
   ],
   "source": [
    "num3.sortBy(lambda x:x,0).collect()"
   ]
  },
  {
   "cell_type": "code",
   "execution_count": 27,
   "id": "c4e3fc1c-03e5-4b26-8551-5cad504e505e",
   "metadata": {},
   "outputs": [
    {
     "data": {
      "text/plain": [
       "[1, 2, 3, 4, 5, 7, 9, 10, 15]"
      ]
     },
     "execution_count": 27,
     "metadata": {},
     "output_type": "execute_result"
    }
   ],
   "source": [
    "num3.distinct().collect()"
   ]
  },
  {
   "cell_type": "code",
   "execution_count": null,
   "id": "f73301b9-5733-45d1-bbf9-16e9030864da",
   "metadata": {},
   "outputs": [],
   "source": []
  },
  {
   "cell_type": "code",
   "execution_count": 28,
   "id": "c5d0315c-5dfc-42da-99c6-fca2537531e2",
   "metadata": {},
   "outputs": [
    {
     "data": {
      "text/plain": [
       "[1, 2, 3, 4, 5, 6, 7, 8, 9, 10, 11, 12, 13, 14, 15, 16, 17, 18, 19]"
      ]
     },
     "execution_count": 28,
     "metadata": {},
     "output_type": "execute_result"
    }
   ],
   "source": [
    "parallel = sc.parallelize(range(1,20))\n",
    "parallel.collect()"
   ]
  },
  {
   "cell_type": "code",
   "execution_count": 29,
   "id": "4add118d-8454-44e1-b63b-475ffa496453",
   "metadata": {},
   "outputs": [
    {
     "data": {
      "text/plain": [
       "[1, 4, 15]"
      ]
     },
     "execution_count": 29,
     "metadata": {},
     "output_type": "execute_result"
    }
   ],
   "source": [
    "parallel.sample(True,.2,).collect()"
   ]
  },
  {
   "cell_type": "code",
   "execution_count": null,
   "id": "26435972-0968-4600-8787-32168dd50ce9",
   "metadata": {},
   "outputs": [],
   "source": []
  },
  {
   "cell_type": "code",
   "execution_count": 31,
   "id": "337d8888-2f4f-4631-8e2e-3b24b0987cbd",
   "metadata": {},
   "outputs": [],
   "source": [
    "names.collect()\n",
    "names_gr = names.groupBy(lambda x : x[0]).collect()"
   ]
  },
  {
   "cell_type": "code",
   "execution_count": 32,
   "id": "d5468926-965f-4861-afc8-2442c9578b89",
   "metadata": {},
   "outputs": [
    {
     "data": {
      "text/plain": [
       "[('M', <pyspark.resultiterable.ResultIterable at 0x7f138021a770>),\n",
       " ('B', <pyspark.resultiterable.ResultIterable at 0x7f138024bd60>)]"
      ]
     },
     "execution_count": 32,
     "metadata": {},
     "output_type": "execute_result"
    }
   ],
   "source": [
    "names_gr"
   ]
  },
  {
   "cell_type": "code",
   "execution_count": 33,
   "id": "7aa98956-3444-4512-9993-27de9ad6d76c",
   "metadata": {},
   "outputs": [
    {
     "name": "stdout",
     "output_type": "stream",
     "text": [
      "M ['Mark', 'Mick']\n",
      "B ['Bills', 'Brain']\n"
     ]
    }
   ],
   "source": [
    "for (k,v) in names_gr:\n",
    "    print(k,list(v))"
   ]
  },
  {
   "cell_type": "code",
   "execution_count": 35,
   "id": "06ea943b-babd-4c2b-9704-cf245c163c9a",
   "metadata": {},
   "outputs": [
    {
     "name": "stdout",
     "output_type": "stream",
     "text": [
      "0 [3]\n",
      "1 [1, 1]\n",
      "2 [2, 5, 8]\n"
     ]
    }
   ],
   "source": [
    "num.intersection(num2).collect()"
   ]
  },
  {
   "cell_type": "code",
   "execution_count": null,
   "id": "2cab09bd-f701-4a59-b232-f9bfc1462da4",
   "metadata": {},
   "outputs": [],
   "source": []
  },
  {
   "cell_type": "code",
   "execution_count": 36,
   "id": "e79c944b-353b-4c91-af1e-79bd3b382e93",
   "metadata": {},
   "outputs": [
    {
     "data": {
      "text/plain": [
       "[4, 9]"
      ]
     },
     "execution_count": 36,
     "metadata": {},
     "output_type": "execute_result"
    }
   ],
   "source": [
    "num.intersection(num2).collect()"
   ]
  },
  {
   "cell_type": "code",
   "execution_count": 37,
   "id": "50a047b9-fde3-4751-bedf-e0ade34aed39",
   "metadata": {},
   "outputs": [
    {
     "data": {
      "text/plain": [
       "[4, 9]"
      ]
     },
     "execution_count": 37,
     "metadata": {},
     "output_type": "execute_result"
    }
   ],
   "source": [
    "num2.intersection(num).collect()"
   ]
  },
  {
   "cell_type": "code",
   "execution_count": 38,
   "id": "bb01fdbf-4630-4dd1-8f21-9fe1f664a4a4",
   "metadata": {},
   "outputs": [
    {
     "name": "stdout",
     "output_type": "stream",
     "text": [
      "[2, 2, 3, 5, 5]\n",
      "[1, 1, 7, 10, 15]\n"
     ]
    }
   ],
   "source": [
    "print(num.subtract(num2).collect())\n",
    "print(num2.subtract(num).collect())"
   ]
  },
  {
   "cell_type": "code",
   "execution_count": null,
   "id": "abc875a6-810d-4e1f-ba0a-e7c734fdc9da",
   "metadata": {},
   "outputs": [],
   "source": []
  },
  {
   "cell_type": "code",
   "execution_count": 39,
   "id": "aeffbc7c-640a-4f88-9092-c6cc43e69599",
   "metadata": {},
   "outputs": [
    {
     "data": {
      "text/plain": [
       "[(3, 'mike'), (2, 'john'), (3, 'rambo'), (4, 'bill'), (1, 'mike')]"
      ]
     },
     "execution_count": 39,
     "metadata": {},
     "output_type": "execute_result"
    }
   ],
   "source": [
    "dataStr = sc.parallelize([(3,'mike'),(2,'john'),(3,'rambo'),(4,'bill'),(1,'mike')])\n",
    "dataStr.collect()"
   ]
  },
  {
   "cell_type": "code",
   "execution_count": 40,
   "id": "95cf1708-8f8e-4c81-a64e-da77c45f3b44",
   "metadata": {},
   "outputs": [
    {
     "data": {
      "text/plain": [
       "defaultdict(int,\n",
       "            {(3, 'mike'): 1,\n",
       "             (2, 'john'): 1,\n",
       "             (3, 'rambo'): 1,\n",
       "             (4, 'bill'): 1,\n",
       "             (1, 'mike'): 1})"
      ]
     },
     "execution_count": 40,
     "metadata": {},
     "output_type": "execute_result"
    }
   ],
   "source": [
    "dataStr.countByValue()"
   ]
  },
  {
   "cell_type": "code",
   "execution_count": 41,
   "id": "3a8a901b-1845-4eea-9ab8-c99229c2c0d1",
   "metadata": {},
   "outputs": [
    {
     "data": {
      "text/plain": [
       "[(1, 2), (2, 4), (3, 6), (3, 1)]"
      ]
     },
     "execution_count": 41,
     "metadata": {},
     "output_type": "execute_result"
    }
   ],
   "source": [
    "data1= sc.parallelize([(1, 2), (3, 6), (3, 1), (2, 4)])\n",
    "data1.sortByKey().collect()"
   ]
  },
  {
   "cell_type": "code",
   "execution_count": 42,
   "id": "e82b2c0f-8d5b-4c80-a089-98e55d7ed852",
   "metadata": {},
   "outputs": [
    {
     "data": {
      "text/plain": [
       "[6, 1]"
      ]
     },
     "execution_count": 42,
     "metadata": {},
     "output_type": "execute_result"
    }
   ],
   "source": [
    "data1.lookup(3)"
   ]
  },
  {
   "cell_type": "code",
   "execution_count": 43,
   "id": "2f9b6952-d329-40d4-b487-60c85cc5b2ad",
   "metadata": {},
   "outputs": [
    {
     "data": {
      "text/plain": [
       "[1, 3, 3, 3]"
      ]
     },
     "execution_count": 43,
     "metadata": {},
     "output_type": "execute_result"
    }
   ],
   "source": [
    "data.keys().collect()"
   ]
  },
  {
   "cell_type": "code",
   "execution_count": 44,
   "id": "e52924fe-b81e-401c-9bc6-0c578a298082",
   "metadata": {},
   "outputs": [
    {
     "data": {
      "text/plain": [
       "[(1, 4), (3, 16), (3, 36), (3, 16)]"
      ]
     },
     "execution_count": 44,
     "metadata": {},
     "output_type": "execute_result"
    }
   ],
   "source": [
    "data.mapValues(lambda a : a*a).collect()"
   ]
  },
  {
   "cell_type": "code",
   "execution_count": null,
   "id": "435d1337-0e3b-4cdd-9f48-480bfb2b771d",
   "metadata": {},
   "outputs": [],
   "source": []
  },
  {
   "cell_type": "code",
   "execution_count": 45,
   "id": "c0e7efcf-069f-4025-86d8-7461010282e3",
   "metadata": {},
   "outputs": [
    {
     "name": "stdout",
     "output_type": "stream",
     "text": [
      "[(1, 2), (3, 4), (3, 6), (3, 4)]\n",
      "[(1, 2), (3, 14)]\n"
     ]
    }
   ],
   "source": [
    "print(data.collect())\n",
    "print(data.reduceByKey(lambda x, y : x+y).collect())"
   ]
  },
  {
   "cell_type": "code",
   "execution_count": 46,
   "id": "3151b697-d88a-4479-99c8-c1785ea82a12",
   "metadata": {},
   "outputs": [
    {
     "data": {
      "text/plain": [
       "[(1, 2), (3, 6)]"
      ]
     },
     "execution_count": 46,
     "metadata": {},
     "output_type": "execute_result"
    }
   ],
   "source": [
    "data.reduceByKey(max).collect()"
   ]
  },
  {
   "cell_type": "code",
   "execution_count": 47,
   "id": "985b42e5-6a55-4a24-8b7c-dc5f6ffacf2a",
   "metadata": {},
   "outputs": [
    {
     "name": "stdout",
     "output_type": "stream",
     "text": [
      "1 [2]\n",
      "3 [4, 6, 4]\n"
     ]
    }
   ],
   "source": [
    "result = data.groupByKey().collect()\n",
    "for (k,v) in result:\n",
    "    print(k, list(v))"
   ]
  },
  {
   "cell_type": "code",
   "execution_count": null,
   "id": "ef21aebb-7004-4026-9491-a8f5c20e3746",
   "metadata": {},
   "outputs": [],
   "source": []
  },
  {
   "cell_type": "code",
   "execution_count": 48,
   "id": "cd83c6e9-2b02-4e84-878b-f61d15820a74",
   "metadata": {},
   "outputs": [
    {
     "name": "stdout",
     "output_type": "stream",
     "text": [
      "['Adam', 'Cray', 'Shaun', 'Brain', 'Mark', 'Christ', 'Shail', 'Satya', 'Mark', 'Norby', 'Frans', 'Mark', 'Bill']\n"
     ]
    }
   ],
   "source": [
    "names = sc.parallelize(['Adam','Cray','Shaun','Brain','Mark','Christ','Shail','Satya','Mark','Norby','Frans','Mark','Bill'])\n",
    "print(names.collect())"
   ]
  },
  {
   "cell_type": "code",
   "execution_count": 49,
   "id": "8a7b7cce-97cd-4c61-a402-c884867b26ce",
   "metadata": {},
   "outputs": [
    {
     "data": {
      "text/plain": [
       "defaultdict(int,\n",
       "            {'Adam': 1,\n",
       "             'Cray': 1,\n",
       "             'Shaun': 1,\n",
       "             'Brain': 1,\n",
       "             'Mark': 3,\n",
       "             'Christ': 1,\n",
       "             'Shail': 1,\n",
       "             'Satya': 1,\n",
       "             'Norby': 1,\n",
       "             'Frans': 1,\n",
       "             'Bill': 1})"
      ]
     },
     "execution_count": 49,
     "metadata": {},
     "output_type": "execute_result"
    }
   ],
   "source": [
    "names.countByValue()"
   ]
  },
  {
   "cell_type": "code",
   "execution_count": 50,
   "id": "c6a2f123-c731-40e2-a7db-ba122838ecce",
   "metadata": {},
   "outputs": [
    {
     "data": {
      "text/plain": [
       "['Adam', 'Cray', 'Shaun', 'Brain', 'Mark']"
      ]
     },
     "execution_count": 50,
     "metadata": {},
     "output_type": "execute_result"
    }
   ],
   "source": [
    "names.take(5)"
   ]
  },
  {
   "cell_type": "code",
   "execution_count": 51,
   "id": "9bf6415c-30d1-4ce1-aed4-e4ffa16dac7c",
   "metadata": {},
   "outputs": [
    {
     "data": {
      "text/plain": [
       "13"
      ]
     },
     "execution_count": 51,
     "metadata": {},
     "output_type": "execute_result"
    }
   ],
   "source": [
    "names.count()"
   ]
  },
  {
   "cell_type": "code",
   "execution_count": 52,
   "id": "51420bc6-c578-41d2-873a-8f7e6cc94bb0",
   "metadata": {},
   "outputs": [
    {
     "data": {
      "text/plain": [
       "11"
      ]
     },
     "execution_count": 52,
     "metadata": {},
     "output_type": "execute_result"
    }
   ],
   "source": [
    "names.distinct().count()"
   ]
  },
  {
   "cell_type": "code",
   "execution_count": null,
   "id": "a4fff2fc-4839-4c46-8921-324d7e652cab",
   "metadata": {},
   "outputs": [],
   "source": []
  }
 ],
 "metadata": {
  "kernelspec": {
   "display_name": "Python 3 (ipykernel)",
   "language": "python",
   "name": "python3"
  },
  "language_info": {
   "codemirror_mode": {
    "name": "ipython",
    "version": 3
   },
   "file_extension": ".py",
   "mimetype": "text/x-python",
   "name": "python",
   "nbconvert_exporter": "python",
   "pygments_lexer": "ipython3",
   "version": "3.10.16"
  }
 },
 "nbformat": 4,
 "nbformat_minor": 5
}
