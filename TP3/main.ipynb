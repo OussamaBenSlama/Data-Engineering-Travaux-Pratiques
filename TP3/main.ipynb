{
 "cells": [
  {
   "cell_type": "code",
   "execution_count": 1,
   "id": "5d2453df-765c-4fdf-a74b-8136c0ecfa98",
   "metadata": {
    "scrolled": true
   },
   "outputs": [
    {
     "data": {
      "text/plain": [
       "['1::1193::5::978300760',\n",
       " '1::661::3::978302109',\n",
       " '1::914::3::978301968',\n",
       " '1::3408::4::978300275',\n",
       " '1::2355::5::978824291']"
      ]
     },
     "execution_count": 1,
     "metadata": {},
     "output_type": "execute_result"
    }
   ],
   "source": [
    "from pyspark import SparkContext\n",
    "from pyspark.sql import SparkSession\n",
    "sc=SparkContext()\n",
    "\n",
    "ratings=sc.textFile('ratings.dat')\n",
    "ratings.take(5)"
   ]
  },
  {
   "cell_type": "code",
   "execution_count": 2,
   "id": "a6cf7e74-498b-40f8-a54b-c1089b69538c",
   "metadata": {},
   "outputs": [],
   "source": [
    "def parseRatings(row):\n",
    "    splitted = list(row.split('::'))\n",
    "    return (int(splitted[0]),int(splitted[1]),int(splitted[2]),splitted[3])"
   ]
  },
  {
   "cell_type": "code",
   "execution_count": 3,
   "id": "06f9462a-04e1-49da-8c7e-009bf6ee8982",
   "metadata": {},
   "outputs": [],
   "source": [
    "ratings = ratings.map(parseRatings)"
   ]
  },
  {
   "cell_type": "code",
   "execution_count": 4,
   "id": "8d26df82-b3b3-4d67-8788-f0b4f980bfde",
   "metadata": {},
   "outputs": [
    {
     "data": {
      "text/plain": [
       "[(1, 1193, 5, '978300760'),\n",
       " (1, 661, 3, '978302109'),\n",
       " (1, 914, 3, '978301968'),\n",
       " (1, 3408, 4, '978300275'),\n",
       " (1, 2355, 5, '978824291')]"
      ]
     },
     "execution_count": 4,
     "metadata": {},
     "output_type": "execute_result"
    }
   ],
   "source": [
    "ratings.take(5)"
   ]
  },
  {
   "cell_type": "code",
   "execution_count": 5,
   "id": "63ec8ec6-a229-4f73-81a3-1567c7fd596f",
   "metadata": {},
   "outputs": [
    {
     "data": {
      "text/plain": [
       "56174"
      ]
     },
     "execution_count": 5,
     "metadata": {},
     "output_type": "execute_result"
    }
   ],
   "source": [
    "rating_1_count = ratings.filter(lambda x: x[2] == 1).count()\n",
    "rating_1_count"
   ]
  },
  {
   "cell_type": "code",
   "execution_count": 6,
   "id": "17e7f78a-e40f-4a40-9e27-ee6c1d59984a",
   "metadata": {},
   "outputs": [
    {
     "data": {
      "text/plain": [
       "3706"
      ]
     },
     "execution_count": 6,
     "metadata": {},
     "output_type": "execute_result"
    }
   ],
   "source": [
    "unique_movies = ratings.map(lambda x: x[1]).distinct().count()\n",
    "unique_movies"
   ]
  },
  {
   "cell_type": "code",
   "execution_count": 7,
   "id": "eb017247-13dc-44c5-8fdb-90ddd4f93620",
   "metadata": {},
   "outputs": [
    {
     "data": {
      "text/plain": [
       "(4169, 2314)"
      ]
     },
     "execution_count": 7,
     "metadata": {},
     "output_type": "execute_result"
    }
   ],
   "source": [
    "user_id = ratings.map(lambda x : (x[0] ,1)).reduceByKey(lambda x,y: x+y).max(lambda x : x[1])\n",
    "user_id"
   ]
  },
  {
   "cell_type": "code",
   "execution_count": 8,
   "id": "3b2dc67b-d333-4e6c-9be3-81412df983e1",
   "metadata": {},
   "outputs": [],
   "source": [
    "movies_rated_by_user = ratings.filter(lambda x: x[0] == user_id[0])"
   ]
  },
  {
   "cell_type": "code",
   "execution_count": 10,
   "id": "74d153f6-a323-4577-acd4-41d89182d993",
   "metadata": {},
   "outputs": [
    {
     "data": {
      "text/plain": [
       "[(4169, 3789, 5, '965333672'),\n",
       " (4169, 571, 4, '973310265'),\n",
       " (4169, 574, 3, '975805232'),\n",
       " (4169, 575, 3, '976589949'),\n",
       " (4169, 577, 3, '988324145')]"
      ]
     },
     "execution_count": 10,
     "metadata": {},
     "output_type": "execute_result"
    }
   ],
   "source": [
    "movies_rated_by_user.take(5)"
   ]
  },
  {
   "cell_type": "code",
   "execution_count": 11,
   "id": "9891e443-a935-44c5-a608-6baca6d42d5f",
   "metadata": {},
   "outputs": [
    {
     "data": {
      "text/plain": [
       "[\"1::Toy Story (1995)::Animation|Children's|Comedy\",\n",
       " \"2::Jumanji (1995)::Adventure|Children's|Fantasy\",\n",
       " '3::Grumpier Old Men (1995)::Comedy|Romance',\n",
       " '4::Waiting to Exhale (1995)::Comedy|Drama',\n",
       " '5::Father of the Bride Part II (1995)::Comedy']"
      ]
     },
     "execution_count": 11,
     "metadata": {},
     "output_type": "execute_result"
    }
   ],
   "source": [
    "movies = sc.textFile('movies.dat')\n",
    "movies.take(5)"
   ]
  },
  {
   "cell_type": "code",
   "execution_count": 12,
   "id": "0203ff96-224f-41a3-9f1f-26c1c0212426",
   "metadata": {},
   "outputs": [],
   "source": [
    "def parseMovies(row):\n",
    "    splitted = list(row.split('::'))\n",
    "    return (int(splitted[0]),splitted[1],splitted[2])"
   ]
  },
  {
   "cell_type": "code",
   "execution_count": 13,
   "id": "110fe3a2-7233-494c-a017-897ed2302671",
   "metadata": {},
   "outputs": [
    {
     "data": {
      "text/plain": [
       "[(1, 'Toy Story (1995)', \"Animation|Children's|Comedy\"),\n",
       " (2, 'Jumanji (1995)', \"Adventure|Children's|Fantasy\"),\n",
       " (3, 'Grumpier Old Men (1995)', 'Comedy|Romance'),\n",
       " (4, 'Waiting to Exhale (1995)', 'Comedy|Drama'),\n",
       " (5, 'Father of the Bride Part II (1995)', 'Comedy')]"
      ]
     },
     "execution_count": 13,
     "metadata": {},
     "output_type": "execute_result"
    }
   ],
   "source": [
    "movies = movies.map(parseMovies)\n",
    "movies.take(5)"
   ]
  },
  {
   "cell_type": "code",
   "execution_count": 14,
   "id": "479fc958-19bc-4cb9-b951-6310b7018f79",
   "metadata": {},
   "outputs": [
    {
     "data": {
      "text/plain": [
       "['1::F::1::10::48067',\n",
       " '2::M::56::16::70072',\n",
       " '3::M::25::15::55117',\n",
       " '4::M::45::7::02460',\n",
       " '5::M::25::20::55455']"
      ]
     },
     "execution_count": 14,
     "metadata": {},
     "output_type": "execute_result"
    }
   ],
   "source": [
    "users = sc.textFile('users.dat')\n",
    "users.take(5)"
   ]
  },
  {
   "cell_type": "code",
   "execution_count": 15,
   "id": "94f0e389-dae2-4fe4-bd93-4a3d7719ef5a",
   "metadata": {},
   "outputs": [],
   "source": [
    "def parseUsers(row):\n",
    "    splitted = list(row.split('::'))\n",
    "    return (int(splitted[0]),splitted[1],int(splitted[2]), splitted[3],splitted[4])"
   ]
  },
  {
   "cell_type": "code",
   "execution_count": 16,
   "id": "7a41ec68-7247-4be3-a6c3-ebfeb994afbf",
   "metadata": {
    "scrolled": true
   },
   "outputs": [
    {
     "data": {
      "text/plain": [
       "[(1, 'F', 1, '10', '48067'),\n",
       " (2, 'M', 56, '16', '70072'),\n",
       " (3, 'M', 25, '15', '55117'),\n",
       " (4, 'M', 45, '7', '02460'),\n",
       " (5, 'M', 25, '20', '55455')]"
      ]
     },
     "execution_count": 16,
     "metadata": {},
     "output_type": "execute_result"
    }
   ],
   "source": [
    "users = users.map(parseUsers)\n",
    "users.take(5)"
   ]
  },
  {
   "cell_type": "code",
   "execution_count": 18,
   "id": "3824c14a-9b99-42a3-9210-1813f417abc0",
   "metadata": {},
   "outputs": [],
   "source": [
    "genders = movies.map(lambda x : x[2]).flatMap(lambda x : x.split('|'))"
   ]
  },
  {
   "cell_type": "code",
   "execution_count": 19,
   "id": "1e3b67f3-8cbe-4ba5-89c6-079e2f2cc8c6",
   "metadata": {},
   "outputs": [],
   "source": [
    "genders0 = movies.map(lambda x : x[2]).map(lambda x : x.split('|'))"
   ]
  },
  {
   "cell_type": "code",
   "execution_count": 20,
   "id": "7ab28a28-ef62-4ef4-84bb-c0eeab10de7b",
   "metadata": {},
   "outputs": [
    {
     "data": {
      "text/plain": [
       "['Animation',\n",
       " \"Children's\",\n",
       " 'Comedy',\n",
       " 'Adventure',\n",
       " \"Children's\",\n",
       " 'Fantasy',\n",
       " 'Comedy',\n",
       " 'Romance',\n",
       " 'Comedy',\n",
       " 'Drama']"
      ]
     },
     "execution_count": 20,
     "metadata": {},
     "output_type": "execute_result"
    }
   ],
   "source": [
    "genders.take(10)"
   ]
  },
  {
   "cell_type": "code",
   "execution_count": 21,
   "id": "8747a770-a2f2-4ca9-84af-5f0e4bb074c3",
   "metadata": {},
   "outputs": [
    {
     "data": {
      "text/plain": [
       "['Western',\n",
       " 'Thriller',\n",
       " 'Sci-Fi',\n",
       " 'Romance',\n",
       " 'Musical',\n",
       " 'Horror',\n",
       " 'Fantasy',\n",
       " 'Drama',\n",
       " 'Documentary',\n",
       " \"Children's\",\n",
       " 'Action',\n",
       " 'War',\n",
       " 'Mystery',\n",
       " 'Film-Noir',\n",
       " 'Crime',\n",
       " 'Comedy',\n",
       " 'Animation',\n",
       " 'Adventure']"
      ]
     },
     "execution_count": 21,
     "metadata": {},
     "output_type": "execute_result"
    }
   ],
   "source": [
    "genders = genders.sortBy(lambda x:x,0).distinct()\n",
    "genders.take(20)"
   ]
  },
  {
   "cell_type": "code",
   "execution_count": 22,
   "id": "9b6b3dd4-f5c3-4d84-bdef-d8ed25c49892",
   "metadata": {},
   "outputs": [
    {
     "data": {
      "text/plain": [
       "[(\"Children's\", 251),\n",
       " ('Fantasy', 68),\n",
       " ('Romance', 471),\n",
       " ('Drama', 1603),\n",
       " ('Action', 503)]"
      ]
     },
     "execution_count": 22,
     "metadata": {},
     "output_type": "execute_result"
    }
   ],
   "source": [
    "nb_genders = movies.flatMap(lambda x: x[2].split('|')).map(lambda g: (g, 1)).reduceByKey(lambda x, y: x + y)\n",
    "nb_genders.take(5) "
   ]
  },
  {
   "cell_type": "markdown",
   "id": "3fba0eeb-0d8f-461f-98ed-eb76d185ed7b",
   "metadata": {},
   "source": [
    "Question 8"
   ]
  },
  {
   "cell_type": "code",
   "execution_count": 23,
   "id": "977e32c9-13fb-4595-afeb-3d59098a54c9",
   "metadata": {},
   "outputs": [],
   "source": [
    "valid_users = users.filter(lambda x : x[1] == 'M' and x[2] > 45 ).map(lambda x : (x[0],1))\n",
    "valid_ratings = ratings.filter(lambda x : x[2] >= 4).map(lambda x : (x[0] , x[1]))\n",
    "\n",
    "valid_rating_by_users = valid_users.join(valid_ratings).map(lambda x: (x[1][1],1))\n"
   ]
  },
  {
   "cell_type": "code",
   "execution_count": 24,
   "id": "e0cf0321-07aa-48b5-8924-343a2d89354d",
   "metadata": {},
   "outputs": [
    {
     "data": {
      "text/plain": [
       "['Action',\n",
       " 'Animation',\n",
       " 'Adventure',\n",
       " \"Children's\",\n",
       " 'Comedy',\n",
       " 'Crime',\n",
       " 'Drama',\n",
       " 'Documentary',\n",
       " 'Film-Noir',\n",
       " 'Fantasy']"
      ]
     },
     "execution_count": 24,
     "metadata": {},
     "output_type": "execute_result"
    }
   ],
   "source": [
    "movies_genres = valid_rating_by_users.join(movies.map(lambda x: (x[0], x[2]))).flatMap(lambda x: x[1][1].split('|'))\n",
    "movies_genres.distinct().sortBy(lambda x:x[0],1).take(10)"
   ]
  },
  {
   "cell_type": "code",
   "execution_count": 25,
   "id": "be474470-1ce6-4a48-898b-8bf9e1290954",
   "metadata": {},
   "outputs": [
    {
     "data": {
      "text/plain": [
       "[('Action', 11988),\n",
       " ('Sci-Fi', 7137),\n",
       " ('Western', 2024),\n",
       " ('Animation', 1361),\n",
       " ('Thriller', 9586)]"
      ]
     },
     "execution_count": 25,
     "metadata": {},
     "output_type": "execute_result"
    }
   ],
   "source": [
    "genre_counts = movies_genres.map(lambda genre: (genre, 1)).reduceByKey(lambda x, y: x + y)\n",
    "genre_counts.take(5)"
   ]
  },
  {
   "cell_type": "markdown",
   "id": "337786d4-8c3f-4fa6-8a32-3761294b1cdf",
   "metadata": {},
   "source": [
    "Question 9"
   ]
  },
  {
   "cell_type": "code",
   "execution_count": 26,
   "id": "9c2e7c72-0b7e-4fda-bc07-2861cf489c1c",
   "metadata": {},
   "outputs": [],
   "source": [
    "import re \n",
    "def get_year(title) :\n",
    "    match = re.search(r\"\\((\\d{4})\\)\", title)\n",
    "    return int(match[1]) if match else None"
   ]
  },
  {
   "cell_type": "code",
   "execution_count": 27,
   "id": "bd002f5f-f73b-48a5-b61a-ec495dd6ec25",
   "metadata": {},
   "outputs": [],
   "source": [
    "movies_selected = movies.map(lambda x: (get_year(x[1]), x[2])) \\\n",
    "                           .flatMap(lambda x: [((x[0], genre),1) for genre in x[1].split('|')])"
   ]
  },
  {
   "cell_type": "code",
   "execution_count": 28,
   "id": "2345c493-4594-42be-b037-4365d975e15c",
   "metadata": {},
   "outputs": [],
   "source": [
    "movies_selected = movies_selected.reduceByKey(lambda x,y : x+y).map(lambda x: (x[0][0], (x[0][1], x[1])))"
   ]
  },
  {
   "cell_type": "code",
   "execution_count": 29,
   "id": "c05ca5c4-cf70-476e-b6e4-ab39ccc5b6c7",
   "metadata": {},
   "outputs": [
    {
     "data": {
      "text/plain": [
       "[(1995, ('Animation', 8)),\n",
       " (1995, ('Comedy', 89)),\n",
       " (1995, ('Adventure', 25)),\n",
       " (1995, ('Crime', 18)),\n",
       " (1995, ('War', 12)),\n",
       " (1994, ('Action', 32)),\n",
       " (1994, ('Drama', 121)),\n",
       " (1994, ('Thriller', 31)),\n",
       " (1994, ('Romance', 37)),\n",
       " (1995, ('Mystery', 8))]"
      ]
     },
     "execution_count": 29,
     "metadata": {},
     "output_type": "execute_result"
    }
   ],
   "source": [
    "movies_selected.take(10)"
   ]
  },
  {
   "cell_type": "code",
   "execution_count": 32,
   "id": "4fb35491-d1d9-4342-aaa1-d24476b86037",
   "metadata": {},
   "outputs": [],
   "source": [
    "movies_selected = movies_selected.reduceByKey(lambda a, b: a if a[1] > b[1] else b)"
   ]
  },
  {
   "cell_type": "code",
   "execution_count": 33,
   "id": "093b1422-4275-4f32-8db7-085a54a6b170",
   "metadata": {},
   "outputs": [
    {
     "data": {
      "text/plain": [
       "[(2000, ('Comedy', 69)),\n",
       " (1999, ('Drama', 130)),\n",
       " (1998, ('Drama', 166)),\n",
       " (1997, ('Drama', 139)),\n",
       " (1996, ('Drama', 150)),\n",
       " (1995, ('Drama', 158)),\n",
       " (1994, ('Drama', 121)),\n",
       " (1993, ('Drama', 81)),\n",
       " (1992, ('Drama', 38)),\n",
       " (1991, ('Drama', 26))]"
      ]
     },
     "execution_count": 33,
     "metadata": {},
     "output_type": "execute_result"
    }
   ],
   "source": [
    "movies_selected.sortBy(lambda x : x[0] , 0 ).take(10)"
   ]
  },
  {
   "cell_type": "code",
   "execution_count": null,
   "id": "57e7bdcb-4c92-42c1-8597-4dfa6eed9c5a",
   "metadata": {},
   "outputs": [],
   "source": []
  }
 ],
 "metadata": {
  "kernelspec": {
   "display_name": "Python 3 (ipykernel)",
   "language": "python",
   "name": "python3"
  },
  "language_info": {
   "codemirror_mode": {
    "name": "ipython",
    "version": 3
   },
   "file_extension": ".py",
   "mimetype": "text/x-python",
   "name": "python",
   "nbconvert_exporter": "python",
   "pygments_lexer": "ipython3",
   "version": "3.10.16"
  }
 },
 "nbformat": 4,
 "nbformat_minor": 5
}
