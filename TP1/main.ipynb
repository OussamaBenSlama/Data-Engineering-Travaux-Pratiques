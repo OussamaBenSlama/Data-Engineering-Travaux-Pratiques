{
 "cells": [
  {
   "cell_type": "code",
   "execution_count": 1,
   "metadata": {},
   "outputs": [
    {
     "data": {
      "text/plain": [
       "6"
      ]
     },
     "execution_count": 1,
     "metadata": {},
     "output_type": "execute_result"
    }
   ],
   "source": [
    "2*3"
   ]
  },
  {
   "cell_type": "markdown",
   "metadata": {},
   "source": [
    "Cecci est une cellule texte."
   ]
  },
  {
   "cell_type": "code",
   "execution_count": 2,
   "metadata": {},
   "outputs": [
    {
     "data": {
      "text/plain": [
       "'c:\\\\Users\\\\bensl\\\\Desktop\\\\Education\\\\Ing-2\\\\TP-Ing2\\\\S2\\\\Data engineering\\\\TP1'"
      ]
     },
     "execution_count": 2,
     "metadata": {},
     "output_type": "execute_result"
    }
   ],
   "source": [
    "pwd"
   ]
  },
  {
   "cell_type": "code",
   "execution_count": 3,
   "metadata": {},
   "outputs": [
    {
     "data": {
      "text/plain": [
       "['__add__',\n",
       " '__class__',\n",
       " '__contains__',\n",
       " '__delattr__',\n",
       " '__dir__',\n",
       " '__doc__',\n",
       " '__eq__',\n",
       " '__format__',\n",
       " '__ge__',\n",
       " '__getattribute__',\n",
       " '__getitem__',\n",
       " '__getnewargs__',\n",
       " '__getstate__',\n",
       " '__gt__',\n",
       " '__hash__',\n",
       " '__init__',\n",
       " '__init_subclass__',\n",
       " '__iter__',\n",
       " '__le__',\n",
       " '__len__',\n",
       " '__lt__',\n",
       " '__mod__',\n",
       " '__mul__',\n",
       " '__ne__',\n",
       " '__new__',\n",
       " '__reduce__',\n",
       " '__reduce_ex__',\n",
       " '__repr__',\n",
       " '__rmod__',\n",
       " '__rmul__',\n",
       " '__setattr__',\n",
       " '__sizeof__',\n",
       " '__str__',\n",
       " '__subclasshook__',\n",
       " 'capitalize',\n",
       " 'casefold',\n",
       " 'center',\n",
       " 'count',\n",
       " 'encode',\n",
       " 'endswith',\n",
       " 'expandtabs',\n",
       " 'find',\n",
       " 'format',\n",
       " 'format_map',\n",
       " 'index',\n",
       " 'isalnum',\n",
       " 'isalpha',\n",
       " 'isascii',\n",
       " 'isdecimal',\n",
       " 'isdigit',\n",
       " 'isidentifier',\n",
       " 'islower',\n",
       " 'isnumeric',\n",
       " 'isprintable',\n",
       " 'isspace',\n",
       " 'istitle',\n",
       " 'isupper',\n",
       " 'join',\n",
       " 'ljust',\n",
       " 'lower',\n",
       " 'lstrip',\n",
       " 'maketrans',\n",
       " 'partition',\n",
       " 'removeprefix',\n",
       " 'removesuffix',\n",
       " 'replace',\n",
       " 'rfind',\n",
       " 'rindex',\n",
       " 'rjust',\n",
       " 'rpartition',\n",
       " 'rsplit',\n",
       " 'rstrip',\n",
       " 'split',\n",
       " 'splitlines',\n",
       " 'startswith',\n",
       " 'strip',\n",
       " 'swapcase',\n",
       " 'title',\n",
       " 'translate',\n",
       " 'upper',\n",
       " 'zfill']"
      ]
     },
     "execution_count": 3,
     "metadata": {},
     "output_type": "execute_result"
    }
   ],
   "source": [
    "dir(str)"
   ]
  },
  {
   "cell_type": "code",
   "execution_count": 4,
   "metadata": {},
   "outputs": [
    {
     "name": "stdout",
     "output_type": "stream",
     "text": [
      "Girafe\n",
      "Girafe\n",
      "GIRAFE\n",
      "girafe\n"
     ]
    }
   ],
   "source": [
    "x='girafe'\n",
    "print(x [0].upper() + x[1:])\n",
    "print(x.capitalize())\n",
    "print(x.upper())\n",
    "print(x.lower())"
   ]
  },
  {
   "cell_type": "code",
   "execution_count": 5,
   "metadata": {},
   "outputs": [
    {
     "name": "stdout",
     "output_type": "stream",
     "text": [
      "OUSSAMA\n",
      "oussama\n",
      "Oussama\n"
     ]
    }
   ],
   "source": [
    "nom = \"oussama\"\n",
    "print(nom.upper())\n",
    "print(nom.lower())\n",
    "print(nom.capitalize())"
   ]
  },
  {
   "cell_type": "code",
   "execution_count": 6,
   "metadata": {},
   "outputs": [
    {
     "name": "stdout",
     "output_type": "stream",
     "text": [
      "girafe\n",
      "tigre\n",
      "singe\n",
      "souris\n"
     ]
    }
   ],
   "source": [
    "animaux = \"girafe tigre singe souris\"\n",
    "animaux.split() \n",
    "for animal in animaux.split():\n",
    "  print(animal)"
   ]
  },
  {
   "cell_type": "code",
   "execution_count": 7,
   "metadata": {},
   "outputs": [
    {
     "data": {
      "text/plain": [
       "'singe'"
      ]
     },
     "execution_count": 7,
     "metadata": {},
     "output_type": "execute_result"
    }
   ],
   "source": [
    "animaux = \"girafe tigre singe souris\"\n",
    "animaux.split()[2]"
   ]
  },
  {
   "cell_type": "code",
   "execution_count": 8,
   "metadata": {},
   "outputs": [
    {
     "data": {
      "text/plain": [
       "['girafe ', ' tigre ', ' singe ', '', ' souris']"
      ]
     },
     "execution_count": 8,
     "metadata": {},
     "output_type": "execute_result"
    }
   ],
   "source": [
    "animaux = \"girafe : tigre : singe :: souris\"\n",
    "animaux.split (\":\")"
   ]
  },
  {
   "cell_type": "code",
   "execution_count": 9,
   "metadata": {},
   "outputs": [
    {
     "data": {
      "text/plain": [
       "['girafe', 'tigre', 'singe souris']"
      ]
     },
     "execution_count": 9,
     "metadata": {},
     "output_type": "execute_result"
    }
   ],
   "source": [
    "animaux = \"girafe tigre singe souris\"\n",
    "animaux.split (maxsplit =2)"
   ]
  },
  {
   "cell_type": "code",
   "execution_count": 10,
   "metadata": {},
   "outputs": [
    {
     "name": "stdout",
     "output_type": "stream",
     "text": [
      "1\n",
      "3\n",
      "-1\n",
      "-1\n"
     ]
    }
   ],
   "source": [
    "animal = \"girafe\"\n",
    "print(animal.find(\"i\"))\n",
    "print(animal.find(\"afe\"))\n",
    "print(animal.find(\"z\")) # -1 for not found\n",
    "print(animal.find(\"tig\"))\n"
   ]
  },
  {
   "cell_type": "code",
   "execution_count": 11,
   "metadata": {},
   "outputs": [
    {
     "name": "stdout",
     "output_type": "stream",
     "text": [
      "zarafa girafe zarafa\n",
      "togre gorafe togre\n"
     ]
    }
   ],
   "source": [
    "animaux = \"tigre girafe tigre\"\n",
    "print(animaux.replace(\"tigre\", \"zarafa\")) #a new string is created\n",
    "print(animaux.replace(\"i\",\"o\"))"
   ]
  },
  {
   "cell_type": "code",
   "execution_count": 12,
   "metadata": {},
   "outputs": [
    {
     "name": "stdout",
     "output_type": "stream",
     "text": [
      "2\n",
      "0\n",
      "1\n"
     ]
    }
   ],
   "source": [
    "animaux = \"girafe tigre\"\n",
    "print(animaux.count(\"i\"))\n",
    "print(animaux.count(\"z\"))\n",
    "print(animaux.count(\"tigre\"))"
   ]
  },
  {
   "cell_type": "code",
   "execution_count": 13,
   "metadata": {},
   "outputs": [
    {
     "name": "stdout",
     "output_type": "stream",
     "text": [
      "True\n",
      "False\n"
     ]
    }
   ],
   "source": [
    "chaine = \"Bonjour monsieur oussama !\"\n",
    "print(chaine.startswith(\"Bonjour\"))\n",
    "print(chaine.startswith(\"Au revoir\"))"
   ]
  },
  {
   "cell_type": "code",
   "execution_count": 14,
   "metadata": {},
   "outputs": [
    {
     "data": {
      "text/plain": [
       "'Comment enlever les espaces au dé but et à la fin ?'"
      ]
     },
     "execution_count": 14,
     "metadata": {},
     "output_type": "execute_result"
    }
   ],
   "source": [
    "chaine = \"     Comment enlever les espaces au dé but et à la fin ?     \"\n",
    "chaine.strip()"
   ]
  },
  {
   "cell_type": "code",
   "execution_count": 15,
   "metadata": {},
   "outputs": [
    {
     "data": {
      "text/plain": [
       "'oussama '"
      ]
     },
     "execution_count": 15,
     "metadata": {},
     "output_type": "execute_result"
    }
   ],
   "source": [
    "chaine = \"abboussama abb\"\n",
    "chaine.strip(\"aab\")"
   ]
  },
  {
   "cell_type": "code",
   "execution_count": 16,
   "metadata": {},
   "outputs": [
    {
     "name": "stdout",
     "output_type": "stream",
     "text": [
      "        ***Bonjour, monde!\n"
     ]
    }
   ],
   "source": [
    "texte = \"        ***Bonjour, monde!***\"\n",
    "resultat = texte.strip('*')\n",
    "print(resultat) "
   ]
  },
  {
   "cell_type": "code",
   "execution_count": 17,
   "metadata": {},
   "outputs": [
    {
     "name": "stdout",
     "output_type": "stream",
     "text": [
      "Bonjour, monde\n"
     ]
    }
   ],
   "source": [
    "texte = \"      !!!Bonjour, monde!!!\"\n",
    "resultat = texte.strip('! ')\n",
    "print(resultat)"
   ]
  },
  {
   "cell_type": "code",
   "execution_count": 18,
   "metadata": {},
   "outputs": [
    {
     "name": "stdout",
     "output_type": "stream",
     "text": [
      "Bonjour, monde!!!\n"
     ]
    }
   ],
   "source": [
    "texte = \"!!!Bonjour, monde!!!\"\n",
    "resultat = texte.lstrip('! ')\n",
    "print(resultat)"
   ]
  },
  {
   "cell_type": "code",
   "execution_count": 19,
   "metadata": {},
   "outputs": [
    {
     "name": "stdout",
     "output_type": "stream",
     "text": [
      "!!!Bonjour, monde\n"
     ]
    }
   ],
   "source": [
    "texte = \"!!!Bonjour, monde!!!\"\n",
    "resultat = texte.rstrip('! ')\n",
    "print(resultat)"
   ]
  },
  {
   "cell_type": "markdown",
   "metadata": {},
   "source": [
    "Application"
   ]
  },
  {
   "cell_type": "code",
   "execution_count": 20,
   "metadata": {},
   "outputs": [
    {
     "name": "stdout",
     "output_type": "stream",
     "text": [
      "20.599999999999998\n"
     ]
    }
   ],
   "source": [
    "val = \"3.4 17.2 atom\" \n",
    "elements = val.split()\n",
    "print(float(elements[0]) + float(elements[1]))"
   ]
  },
  {
   "cell_type": "code",
   "execution_count": 21,
   "metadata": {},
   "outputs": [
    {
     "name": "stdout",
     "output_type": "stream",
     "text": [
      "['A', 'B', 'C', 'D']\n"
     ]
    }
   ],
   "source": [
    "import re\n",
    "\n",
    "s = 'A! B. C D'\n",
    "pattern = r'\\W+'\n",
    "l = re.split(pattern, s)\n",
    "print(l)"
   ]
  },
  {
   "cell_type": "code",
   "execution_count": 22,
   "metadata": {},
   "outputs": [
    {
     "name": "stdout",
     "output_type": "stream",
     "text": [
      "['A', '! ', 'B', '. ', 'C D']\n"
     ]
    }
   ],
   "source": [
    "import re\n",
    "\n",
    "s = 'A! B. C D'\n",
    "pattern = r'(\\W+)'\n",
    "l = re.split(pattern, s, 2)\n",
    "print(l)"
   ]
  },
  {
   "cell_type": "code",
   "execution_count": 23,
   "metadata": {},
   "outputs": [
    {
     "name": "stdout",
     "output_type": "stream",
     "text": [
      "['PYnative', 'dot', 'com', 'is', 'for', 'Python', 'developer', '']\n"
     ]
    }
   ],
   "source": [
    "target_string = \"PYnative! dot.com; is for, Python-developer?\"\n",
    "result = re.split(r\"[\\b\\W\\b]+\", target_string)\n",
    "print(result)"
   ]
  },
  {
   "cell_type": "markdown",
   "metadata": {},
   "source": [
    "Lambda function"
   ]
  },
  {
   "cell_type": "code",
   "execution_count": 24,
   "metadata": {},
   "outputs": [
    {
     "name": "stdout",
     "output_type": "stream",
     "text": [
      "13\n"
     ]
    }
   ],
   "source": [
    "add3= lambda x:x+3\n",
    "print(add3(10))"
   ]
  },
  {
   "cell_type": "code",
   "execution_count": 25,
   "metadata": {},
   "outputs": [
    {
     "name": "stdout",
     "output_type": "stream",
     "text": [
      "[4, 6, 8, 12]\n",
      "<filter object at 0x000001B930D7F910>\n"
     ]
    }
   ],
   "source": [
    "my_list = [1, 5, 4, 6, 8, 11, 3, 12]\n",
    "filtered_list = filter(lambda x: (x%2 == 0) , my_list)\n",
    "new_list = list(filtered_list)\n",
    "\n",
    "print(new_list)\n",
    "print(filtered_list)"
   ]
  },
  {
   "cell_type": "code",
   "execution_count": 26,
   "metadata": {},
   "outputs": [
    {
     "name": "stdout",
     "output_type": "stream",
     "text": [
      "[2, 10, 8, 12, 16, 22, 6, 24]\n"
     ]
    }
   ],
   "source": [
    "my_list = [1, 5, 4, 6, 8, 11, 3, 12]\n",
    "\n",
    "new_list = list(map(lambda x: x * 2 , my_list))\n",
    "\n",
    "print(new_list)"
   ]
  },
  {
   "cell_type": "markdown",
   "metadata": {},
   "source": [
    "Application"
   ]
  },
  {
   "cell_type": "code",
   "execution_count": 27,
   "metadata": {},
   "outputs": [],
   "source": [
    "paragraph = \"Les fonctions lambda sont définies dans l’ensemble par le mot-clé lambda et elles peuvent comporter n’importe quel nombre d’argument mais une seule expression.Même sans aucune instruction, la fonction lambda renvoie un objet fonction qui peut être affecté à n’importe quelle autre variable.Quant aux fonctions régulières, elles sont créées avec le mot clé def. Le nombre d’argument et d’expression de ce dernières peuvent être un, deux, voire plus.Elles sont utilisées pour n’importe quelle instruction et sont généralement utilisées pour les gros blocs de code.\""
   ]
  },
  {
   "cell_type": "code",
   "execution_count": 28,
   "metadata": {},
   "outputs": [
    {
     "data": {
      "text/plain": [
       "['Les fonctions lambda sont définies dans l',\n",
       " 'ensemble par le mot',\n",
       " 'clé lambda et elles peuvent comporter n',\n",
       " 'importe quel nombre d',\n",
       " 'argument mais une seule expression',\n",
       " 'Même sans aucune instruction',\n",
       " ' la fonction lambda renvoie un objet fonction qui peut être affecté à n',\n",
       " 'importe quelle autre variable',\n",
       " 'Quant aux fonctions régulières',\n",
       " ' elles sont créées avec le mot clé def',\n",
       " ' Le nombre d',\n",
       " 'argument et d',\n",
       " 'expression de ce dernières peuvent être un',\n",
       " ' deux',\n",
       " ' voire plus',\n",
       " 'Elles sont utilisées pour n',\n",
       " 'importe quelle instruction et sont généralement utilisées pour les gros blocs de code',\n",
       " '']"
      ]
     },
     "execution_count": 28,
     "metadata": {},
     "output_type": "execute_result"
    }
   ],
   "source": [
    "re.split(r'[^\\w\\s]', paragraph)"
   ]
  }
 ],
 "metadata": {
  "kernelspec": {
   "display_name": "Python 3",
   "language": "python",
   "name": "python3"
  },
  "language_info": {
   "codemirror_mode": {
    "name": "ipython",
    "version": 3
   },
   "file_extension": ".py",
   "mimetype": "text/x-python",
   "name": "python",
   "nbconvert_exporter": "python",
   "pygments_lexer": "ipython3",
   "version": "3.12.0"
  }
 },
 "nbformat": 4,
 "nbformat_minor": 2
}
